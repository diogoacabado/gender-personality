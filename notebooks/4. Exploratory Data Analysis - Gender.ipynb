{
 "cells": [
  {
   "cell_type": "code",
   "execution_count": 1,
   "metadata": {},
   "outputs": [],
   "source": [
    "import numpy as np\n",
    "import pandas as pd\n",
    "\n",
    "import plotly.express as px\n",
    "import plotly.offline as pyo\n",
    "import plotly.graph_objects as go\n",
    "import plotly.figure_factory as ff"
   ]
  },
  {
   "cell_type": "code",
   "execution_count": 3,
   "metadata": {},
   "outputs": [
    {
     "data": {
      "text/html": [
       "<div>\n",
       "<style scoped>\n",
       "    .dataframe tbody tr th:only-of-type {\n",
       "        vertical-align: middle;\n",
       "    }\n",
       "\n",
       "    .dataframe tbody tr th {\n",
       "        vertical-align: top;\n",
       "    }\n",
       "\n",
       "    .dataframe thead th {\n",
       "        text-align: right;\n",
       "    }\n",
       "</style>\n",
       "<table border=\"1\" class=\"dataframe\">\n",
       "  <thead>\n",
       "    <tr style=\"text-align: right;\">\n",
       "      <th></th>\n",
       "      <th>gender</th>\n",
       "      <th>E1</th>\n",
       "      <th>E2</th>\n",
       "      <th>E3</th>\n",
       "      <th>E4</th>\n",
       "      <th>E5</th>\n",
       "      <th>E6</th>\n",
       "      <th>E7</th>\n",
       "      <th>E8</th>\n",
       "      <th>E9</th>\n",
       "      <th>...</th>\n",
       "      <th>O6</th>\n",
       "      <th>O7</th>\n",
       "      <th>O8</th>\n",
       "      <th>O9</th>\n",
       "      <th>O10</th>\n",
       "      <th>Extraversion</th>\n",
       "      <th>Neuroticism</th>\n",
       "      <th>Agreeableness</th>\n",
       "      <th>Conscientiousness</th>\n",
       "      <th>Openness</th>\n",
       "    </tr>\n",
       "  </thead>\n",
       "  <tbody>\n",
       "    <tr>\n",
       "      <td>0</td>\n",
       "      <td>Male</td>\n",
       "      <td>4</td>\n",
       "      <td>2</td>\n",
       "      <td>5</td>\n",
       "      <td>2</td>\n",
       "      <td>5</td>\n",
       "      <td>1</td>\n",
       "      <td>4</td>\n",
       "      <td>3</td>\n",
       "      <td>5</td>\n",
       "      <td>...</td>\n",
       "      <td>1</td>\n",
       "      <td>4</td>\n",
       "      <td>2</td>\n",
       "      <td>5</td>\n",
       "      <td>5</td>\n",
       "      <td>14</td>\n",
       "      <td>1</td>\n",
       "      <td>22</td>\n",
       "      <td>23</td>\n",
       "      <td>25</td>\n",
       "    </tr>\n",
       "    <tr>\n",
       "      <td>1</td>\n",
       "      <td>Female</td>\n",
       "      <td>2</td>\n",
       "      <td>2</td>\n",
       "      <td>3</td>\n",
       "      <td>3</td>\n",
       "      <td>3</td>\n",
       "      <td>3</td>\n",
       "      <td>1</td>\n",
       "      <td>5</td>\n",
       "      <td>1</td>\n",
       "      <td>...</td>\n",
       "      <td>3</td>\n",
       "      <td>3</td>\n",
       "      <td>1</td>\n",
       "      <td>3</td>\n",
       "      <td>2</td>\n",
       "      <td>-8</td>\n",
       "      <td>-19</td>\n",
       "      <td>11</td>\n",
       "      <td>18</td>\n",
       "      <td>8</td>\n",
       "    </tr>\n",
       "    <tr>\n",
       "      <td>2</td>\n",
       "      <td>Female</td>\n",
       "      <td>5</td>\n",
       "      <td>1</td>\n",
       "      <td>1</td>\n",
       "      <td>4</td>\n",
       "      <td>5</td>\n",
       "      <td>1</td>\n",
       "      <td>1</td>\n",
       "      <td>5</td>\n",
       "      <td>5</td>\n",
       "      <td>...</td>\n",
       "      <td>1</td>\n",
       "      <td>5</td>\n",
       "      <td>5</td>\n",
       "      <td>5</td>\n",
       "      <td>5</td>\n",
       "      <td>5</td>\n",
       "      <td>-34</td>\n",
       "      <td>14</td>\n",
       "      <td>25</td>\n",
       "      <td>27</td>\n",
       "    </tr>\n",
       "    <tr>\n",
       "      <td>3</td>\n",
       "      <td>Female</td>\n",
       "      <td>2</td>\n",
       "      <td>5</td>\n",
       "      <td>2</td>\n",
       "      <td>4</td>\n",
       "      <td>3</td>\n",
       "      <td>4</td>\n",
       "      <td>3</td>\n",
       "      <td>4</td>\n",
       "      <td>4</td>\n",
       "      <td>...</td>\n",
       "      <td>2</td>\n",
       "      <td>5</td>\n",
       "      <td>2</td>\n",
       "      <td>5</td>\n",
       "      <td>5</td>\n",
       "      <td>-8</td>\n",
       "      <td>-31</td>\n",
       "      <td>13</td>\n",
       "      <td>2</td>\n",
       "      <td>23</td>\n",
       "    </tr>\n",
       "    <tr>\n",
       "      <td>4</td>\n",
       "      <td>Female</td>\n",
       "      <td>3</td>\n",
       "      <td>1</td>\n",
       "      <td>3</td>\n",
       "      <td>3</td>\n",
       "      <td>3</td>\n",
       "      <td>1</td>\n",
       "      <td>3</td>\n",
       "      <td>1</td>\n",
       "      <td>3</td>\n",
       "      <td>...</td>\n",
       "      <td>1</td>\n",
       "      <td>3</td>\n",
       "      <td>1</td>\n",
       "      <td>5</td>\n",
       "      <td>3</td>\n",
       "      <td>4</td>\n",
       "      <td>-18</td>\n",
       "      <td>20</td>\n",
       "      <td>10</td>\n",
       "      <td>16</td>\n",
       "    </tr>\n",
       "  </tbody>\n",
       "</table>\n",
       "<p>5 rows × 56 columns</p>\n",
       "</div>"
      ],
      "text/plain": [
       "   gender  E1  E2  E3  E4  E5  E6  E7  E8  E9  ...  O6  O7  O8  O9  O10  \\\n",
       "0    Male   4   2   5   2   5   1   4   3   5  ...   1   4   2   5    5   \n",
       "1  Female   2   2   3   3   3   3   1   5   1  ...   3   3   1   3    2   \n",
       "2  Female   5   1   1   4   5   1   1   5   5  ...   1   5   5   5    5   \n",
       "3  Female   2   5   2   4   3   4   3   4   4  ...   2   5   2   5    5   \n",
       "4  Female   3   1   3   3   3   1   3   1   3  ...   1   3   1   5    3   \n",
       "\n",
       "   Extraversion  Neuroticism  Agreeableness  Conscientiousness  Openness  \n",
       "0            14            1             22                 23        25  \n",
       "1            -8          -19             11                 18         8  \n",
       "2             5          -34             14                 25        27  \n",
       "3            -8          -31             13                  2        23  \n",
       "4             4          -18             20                 10        16  \n",
       "\n",
       "[5 rows x 56 columns]"
      ]
     },
     "execution_count": 3,
     "metadata": {},
     "output_type": "execute_result"
    }
   ],
   "source": [
    "df = pd.read_csv('../output_data/data_complete.csv')\n",
    "df.head()"
   ]
  },
  {
   "cell_type": "markdown",
   "metadata": {},
   "source": [
    "# Gender Analysis"
   ]
  },
  {
   "cell_type": "code",
   "execution_count": 4,
   "metadata": {},
   "outputs": [
    {
     "data": {
      "text/plain": [
       "'gender.html'"
      ]
     },
     "execution_count": 4,
     "metadata": {},
     "output_type": "execute_result"
    }
   ],
   "source": [
    "# Plot using a bar chart\n",
    "\n",
    "gender_count = df['gender'].value_counts()\n",
    "\n",
    "x = gender_count.index.values.tolist()\n",
    "y = gender_count.values.tolist()\n",
    "\n",
    "trace = go.Bar(x=x, y=y)\n",
    "\n",
    "data = [trace]\n",
    "layout = go.Layout(title='Gender',\n",
    "                   xaxis={'title': 'Gender'},\n",
    "                   yaxis={'title': 'Count'})\n",
    "\n",
    "fig = go.Figure(data=data, layout=layout)\n",
    "pyo.plot(fig, filename='gender.html')"
   ]
  },
  {
   "cell_type": "markdown",
   "metadata": {},
   "source": [
    "# Traits Analysis"
   ]
  },
  {
   "cell_type": "code",
   "execution_count": 5,
   "metadata": {},
   "outputs": [],
   "source": [
    "filt_m = df['gender'] == 'Male'\n",
    "filt_f = df['gender'] == 'Female'"
   ]
  },
  {
   "cell_type": "markdown",
   "metadata": {},
   "source": [
    "### Extraversion"
   ]
  },
  {
   "cell_type": "code",
   "execution_count": 6,
   "metadata": {},
   "outputs": [],
   "source": [
    "male = df.loc[filt_m, 'Extraversion']\n",
    "female = df.loc[filt_f, 'Extraversion']"
   ]
  },
  {
   "cell_type": "code",
   "execution_count": 7,
   "metadata": {},
   "outputs": [
    {
     "data": {
      "text/plain": [
       "'Extraversion.html'"
      ]
     },
     "execution_count": 7,
     "metadata": {},
     "output_type": "execute_result"
    }
   ],
   "source": [
    "data = [go.Box(y=male, name='Male', boxpoints='outliers', jitter=0.3, pointpos=0), \n",
    "        go.Box(y=female, name='Female', boxpoints='outliers', jitter=0.3, pointpos=0)]\n",
    "\n",
    "layout = go.Layout(title='Extraversion scores by gender',\n",
    "                   xaxis={'title': 'Gender'},\n",
    "                   yaxis={'title': 'Score'})\n",
    "\n",
    "fig = go.Figure(data=data, layout=layout)\n",
    "pyo.plot(fig, filename='Extraversion.html')"
   ]
  },
  {
   "cell_type": "code",
   "execution_count": 8,
   "metadata": {},
   "outputs": [
    {
     "data": {
      "text/plain": [
       "'distplot1.html'"
      ]
     },
     "execution_count": 8,
     "metadata": {},
     "output_type": "execute_result"
    }
   ],
   "source": [
    "hist_data = [male, female]\n",
    "group_labels = ['Male', 'Female']\n",
    "\n",
    "fig = ff.create_distplot(hist_data, \n",
    "                         group_labels, \n",
    "                         bin_size=[1,1])\n",
    "\n",
    "pyo.plot(fig, filename='distplot1.html')"
   ]
  },
  {
   "cell_type": "code",
   "execution_count": 9,
   "metadata": {},
   "outputs": [
    {
     "name": "stdout",
     "output_type": "stream",
     "text": [
      "3.139671090133996e-13\n"
     ]
    }
   ],
   "source": [
    "# Hypothesis testing\n",
    "\n",
    "# H1: The two populations have different mean scores for Agreeableness\n",
    "\n",
    "from scipy.stats import ttest_ind\n",
    "\n",
    "(statistic, pvalue) = ttest_ind(male, female, equal_var=False)\n",
    "print(pvalue)"
   ]
  },
  {
   "cell_type": "markdown",
   "metadata": {},
   "source": [
    "# Neuroticism"
   ]
  },
  {
   "cell_type": "code",
   "execution_count": 10,
   "metadata": {},
   "outputs": [],
   "source": [
    "male = df.loc[filt_m, 'Neuroticism']\n",
    "female = df.loc[filt_f, 'Neuroticism']"
   ]
  },
  {
   "cell_type": "code",
   "execution_count": 11,
   "metadata": {},
   "outputs": [
    {
     "data": {
      "text/plain": [
       "'Neuroticism.html'"
      ]
     },
     "execution_count": 11,
     "metadata": {},
     "output_type": "execute_result"
    }
   ],
   "source": [
    "data = [go.Box(y=male, name='Male', boxpoints='outliers', jitter=0.3, pointpos=0), \n",
    "        go.Box(y=female, name='Female', boxpoints='outliers', jitter=0.3, pointpos=0)]\n",
    "\n",
    "layout = go.Layout(title='Neuroticism',\n",
    "                   xaxis={'title': 'Gender'},\n",
    "                   yaxis={'title': 'Score'})\n",
    "\n",
    "fig = go.Figure(data=data, layout=layout)\n",
    "pyo.plot(fig, filename='Neuroticism.html')"
   ]
  },
  {
   "cell_type": "code",
   "execution_count": 12,
   "metadata": {},
   "outputs": [
    {
     "data": {
      "text/plain": [
       "'distplot1.html'"
      ]
     },
     "execution_count": 12,
     "metadata": {},
     "output_type": "execute_result"
    }
   ],
   "source": [
    "hist_data = [male, female]\n",
    "group_labels = ['Male', 'Female']\n",
    "\n",
    "fig = ff.create_distplot(hist_data, \n",
    "                         group_labels, \n",
    "                         bin_size=[1,1])\n",
    "\n",
    "pyo.plot(fig, filename='distplot1.html')"
   ]
  },
  {
   "cell_type": "code",
   "execution_count": 13,
   "metadata": {},
   "outputs": [
    {
     "name": "stdout",
     "output_type": "stream",
     "text": [
      "1.6556685312882452e-121\n"
     ]
    }
   ],
   "source": [
    "# Hypothesis testing\n",
    "\n",
    "# H1: The two populations have different mean scores for Agreeableness\n",
    "\n",
    "from scipy.stats import ttest_ind\n",
    "\n",
    "(statistic, pvalue) = ttest_ind(male, female, equal_var=False)\n",
    "print(pvalue)"
   ]
  },
  {
   "cell_type": "markdown",
   "metadata": {},
   "source": [
    "# Agreeableness"
   ]
  },
  {
   "cell_type": "code",
   "execution_count": 14,
   "metadata": {},
   "outputs": [],
   "source": [
    "male = df.loc[filt_m, 'Agreeableness']\n",
    "female = df.loc[filt_f, 'Agreeableness']"
   ]
  },
  {
   "cell_type": "code",
   "execution_count": 15,
   "metadata": {},
   "outputs": [
    {
     "data": {
      "text/plain": [
       "'Agreeableness.html'"
      ]
     },
     "execution_count": 15,
     "metadata": {},
     "output_type": "execute_result"
    }
   ],
   "source": [
    "data = [go.Box(y=male, name='Male', boxpoints='outliers', jitter=0.3, pointpos=0), \n",
    "        go.Box(y=female, name='Female', boxpoints='outliers', jitter=0.3, pointpos=0)]\n",
    "\n",
    "layout = go.Layout(title='Agreeableness',\n",
    "                   xaxis={'title': 'Gender'},\n",
    "                   yaxis={'title': 'Score'})\n",
    "\n",
    "fig = go.Figure(data=data, layout=layout)\n",
    "pyo.plot(fig, filename='Agreeableness.html')"
   ]
  },
  {
   "cell_type": "code",
   "execution_count": 16,
   "metadata": {},
   "outputs": [
    {
     "data": {
      "text/plain": [
       "'distplot1.html'"
      ]
     },
     "execution_count": 16,
     "metadata": {},
     "output_type": "execute_result"
    }
   ],
   "source": [
    "male = df.loc[filt_m, 'Agreeableness']\n",
    "female = df.loc[filt_f, 'Agreeableness']\n",
    "\n",
    "hist_data = [male, female]\n",
    "group_labels = ['Male', 'Female']\n",
    "\n",
    "fig = ff.create_distplot(hist_data, \n",
    "                         group_labels, \n",
    "                         bin_size=[1,1])\n",
    "\n",
    "pyo.plot(fig, filename='distplot1.html')"
   ]
  },
  {
   "cell_type": "code",
   "execution_count": 17,
   "metadata": {},
   "outputs": [
    {
     "name": "stdout",
     "output_type": "stream",
     "text": [
      "1.037992430785508e-192\n"
     ]
    }
   ],
   "source": [
    "# Hypothesis testing\n",
    "\n",
    "# H1: The two populations have different mean scores for Agreeableness\n",
    "\n",
    "from scipy.stats import ttest_ind\n",
    "\n",
    "(statistic, pvalue) = ttest_ind(male, female, equal_var=False)\n",
    "print(pvalue)"
   ]
  },
  {
   "cell_type": "markdown",
   "metadata": {},
   "source": [
    "# Conscientiousness"
   ]
  },
  {
   "cell_type": "code",
   "execution_count": 18,
   "metadata": {},
   "outputs": [],
   "source": [
    "male = df.loc[filt_m, 'Conscientiousness']\n",
    "female = df.loc[filt_f, 'Conscientiousness']"
   ]
  },
  {
   "cell_type": "code",
   "execution_count": 19,
   "metadata": {},
   "outputs": [
    {
     "data": {
      "text/plain": [
       "'Conscientiousness.html'"
      ]
     },
     "execution_count": 19,
     "metadata": {},
     "output_type": "execute_result"
    }
   ],
   "source": [
    "data = [go.Box(y=male, name='Male', boxpoints='outliers', jitter=0.3, pointpos=0), \n",
    "        go.Box(y=female, name='Female', boxpoints='outliers', jitter=0.3, pointpos=0)]\n",
    "\n",
    "layout = go.Layout(title='Conscientiousness',\n",
    "                   xaxis={'title': 'Gender'},\n",
    "                   yaxis={'title': 'Score'})\n",
    "\n",
    "fig = go.Figure(data=data, layout=layout)\n",
    "pyo.plot(fig, filename='Conscientiousness.html')"
   ]
  },
  {
   "cell_type": "code",
   "execution_count": 20,
   "metadata": {},
   "outputs": [
    {
     "data": {
      "text/plain": [
       "'distplot1.html'"
      ]
     },
     "execution_count": 20,
     "metadata": {},
     "output_type": "execute_result"
    }
   ],
   "source": [
    "hist_data = [male, female]\n",
    "group_labels = ['Male', 'Female']\n",
    "\n",
    "fig = ff.create_distplot(hist_data, \n",
    "                         group_labels, \n",
    "                         bin_size=[1,1])\n",
    "\n",
    "pyo.plot(fig, filename='distplot1.html')"
   ]
  },
  {
   "cell_type": "code",
   "execution_count": 21,
   "metadata": {},
   "outputs": [
    {
     "name": "stdout",
     "output_type": "stream",
     "text": [
      "6.515902281646965e-05\n"
     ]
    }
   ],
   "source": [
    "# Hypothesis testing\n",
    "\n",
    "# H1: The two populations have different mean scores for Agreeableness\n",
    "\n",
    "from scipy.stats import ttest_ind\n",
    "\n",
    "(statistic, pvalue) = ttest_ind(male, female, equal_var=False)\n",
    "print(pvalue)"
   ]
  },
  {
   "cell_type": "markdown",
   "metadata": {},
   "source": [
    "# Openness"
   ]
  },
  {
   "cell_type": "code",
   "execution_count": 22,
   "metadata": {},
   "outputs": [],
   "source": [
    "male = df.loc[filt_m, 'Openness']\n",
    "female = df.loc[filt_f, 'Openness']"
   ]
  },
  {
   "cell_type": "code",
   "execution_count": 23,
   "metadata": {},
   "outputs": [
    {
     "data": {
      "text/plain": [
       "'Openness.html'"
      ]
     },
     "execution_count": 23,
     "metadata": {},
     "output_type": "execute_result"
    }
   ],
   "source": [
    "data = [go.Box(y=male, name='Male', boxpoints='outliers', jitter=0.3, pointpos=0), \n",
    "        go.Box(y=female, name='Female', boxpoints='outliers', jitter=0.3, pointpos=0)]\n",
    "\n",
    "layout = go.Layout(title='Openness',\n",
    "                   xaxis={'title': 'Gender'},\n",
    "                   yaxis={'title': 'Score'})\n",
    "\n",
    "fig = go.Figure(data=data, layout=layout)\n",
    "pyo.plot(fig, filename='Openness.html')"
   ]
  },
  {
   "cell_type": "code",
   "execution_count": 24,
   "metadata": {},
   "outputs": [
    {
     "data": {
      "text/plain": [
       "'distplot1.html'"
      ]
     },
     "execution_count": 24,
     "metadata": {},
     "output_type": "execute_result"
    }
   ],
   "source": [
    "male = df.loc[filt_m, 'Openness']\n",
    "female = df.loc[filt_f, 'Openness']\n",
    "\n",
    "hist_data = [male, female]\n",
    "group_labels = ['Male', 'Female']\n",
    "\n",
    "fig = ff.create_distplot(hist_data, \n",
    "                         group_labels, \n",
    "                         bin_size=[1,1])\n",
    "\n",
    "pyo.plot(fig, filename='distplot1.html')"
   ]
  },
  {
   "cell_type": "code",
   "execution_count": 25,
   "metadata": {},
   "outputs": [
    {
     "name": "stdout",
     "output_type": "stream",
     "text": [
      "2.3809714812274794e-46\n"
     ]
    }
   ],
   "source": [
    "# Hypothesis testing\n",
    "\n",
    "# H1: The two populations have different mean scores for Agreeableness\n",
    "\n",
    "from scipy.stats import ttest_ind\n",
    "\n",
    "(statistic, pvalue) = ttest_ind(male, female, equal_var=False)\n",
    "print(pvalue)"
   ]
  }
 ],
 "metadata": {
  "kernelspec": {
   "display_name": "Python 3",
   "language": "python",
   "name": "python3"
  },
  "language_info": {
   "codemirror_mode": {
    "name": "ipython",
    "version": 3
   },
   "file_extension": ".py",
   "mimetype": "text/x-python",
   "name": "python",
   "nbconvert_exporter": "python",
   "pygments_lexer": "ipython3",
   "version": "3.7.4"
  }
 },
 "nbformat": 4,
 "nbformat_minor": 2
}
